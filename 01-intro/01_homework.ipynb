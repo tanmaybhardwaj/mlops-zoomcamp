{
  "nbformat": 4,
  "nbformat_minor": 0,
  "metadata": {
    "colab": {
      "name": "01-homework.ipynb",
      "provenance": [],
      "collapsed_sections": []
    },
    "kernelspec": {
      "name": "python3",
      "display_name": "Python 3"
    },
    "language_info": {
      "name": "python"
    }
  },
  "cells": [
    {
      "cell_type": "markdown",
      "source": [
        "#### Retrieve Traffic Dataset"
      ],
      "metadata": {
        "id": "8cF68KldDWrH"
      }
    },
    {
      "cell_type": "code",
      "execution_count": 1,
      "metadata": {
        "colab": {
          "base_uri": "https://localhost:8080/"
        },
        "id": "WjMlbLD11d0Z",
        "outputId": "59fa3015-64db-4813-b586-be472797e1f3"
      },
      "outputs": [
        {
          "output_type": "stream",
          "name": "stdout",
          "text": [
            "--2022-05-19 21:02:07--  https://nyc-tlc.s3.amazonaws.com/trip+data/fhv_tripdata_2021-01.parquet\n",
            "Resolving nyc-tlc.s3.amazonaws.com (nyc-tlc.s3.amazonaws.com)... 52.217.135.121\n",
            "Connecting to nyc-tlc.s3.amazonaws.com (nyc-tlc.s3.amazonaws.com)|52.217.135.121|:443... connected.\n",
            "HTTP request sent, awaiting response... 200 OK\n",
            "Length: 11886281 (11M) [binary/octet-stream]\n",
            "Saving to: ‘fhv_tripdata_2021-01.parquet.1’\n",
            "\n",
            "fhv_tripdata_2021-0 100%[===================>]  11.33M  57.4MB/s    in 0.2s    \n",
            "\n",
            "2022-05-19 21:02:08 (57.4 MB/s) - ‘fhv_tripdata_2021-01.parquet.1’ saved [11886281/11886281]\n",
            "\n",
            "--2022-05-19 21:02:08--  https://nyc-tlc.s3.amazonaws.com/trip+data/fhv_tripdata_2021-02.parquet\n",
            "Resolving nyc-tlc.s3.amazonaws.com (nyc-tlc.s3.amazonaws.com)... 52.217.135.121\n",
            "Connecting to nyc-tlc.s3.amazonaws.com (nyc-tlc.s3.amazonaws.com)|52.217.135.121|:443... connected.\n",
            "HTTP request sent, awaiting response... 200 OK\n",
            "Length: 10645466 (10M) [binary/octet-stream]\n",
            "Saving to: ‘fhv_tripdata_2021-02.parquet.1’\n",
            "\n",
            "fhv_tripdata_2021-0 100%[===================>]  10.15M  --.-KB/s    in 0.1s    \n",
            "\n",
            "2022-05-19 21:02:08 (73.0 MB/s) - ‘fhv_tripdata_2021-02.parquet.1’ saved [10645466/10645466]\n",
            "\n"
          ]
        }
      ],
      "source": [
        "!wget \"https://nyc-tlc.s3.amazonaws.com/trip+data/fhv_tripdata_2021-01.parquet\"\n",
        "!wget \"https://nyc-tlc.s3.amazonaws.com/trip+data/fhv_tripdata_2021-02.parquet\""
      ]
    },
    {
      "cell_type": "markdown",
      "source": [
        "#### Import Libraries/Packages"
      ],
      "metadata": {
        "id": "uhX7rPXKDbv9"
      }
    },
    {
      "cell_type": "code",
      "source": [
        "import pandas as pd\n",
        "from sklearn.metrics import mean_squared_error\n",
        "from sklearn.linear_model import LinearRegression\n",
        "from sklearn.feature_extraction import DictVectorizer"
      ],
      "metadata": {
        "id": "fC0Eq64H1jyY"
      },
      "execution_count": 2,
      "outputs": []
    },
    {
      "cell_type": "markdown",
      "source": [
        "#### Segregate train and test datasets"
      ],
      "metadata": {
        "id": "WJYCdXH6DjRQ"
      }
    },
    {
      "cell_type": "code",
      "source": [
        "df_train=pd.read_parquet('/content/fhv_tripdata_2021-01.parquet')\n",
        "df_val=pd.read_parquet('/content/fhv_tripdata_2021-02.parquet')"
      ],
      "metadata": {
        "id": "w9w-knh-1mq_"
      },
      "execution_count": 3,
      "outputs": []
    },
    {
      "cell_type": "markdown",
      "source": [
        "#### Check number of records in both datasets"
      ],
      "metadata": {
        "id": "Ao1EnzPfDnmw"
      }
    },
    {
      "cell_type": "code",
      "source": [
        "print('Records in Jan 2021 dataset ',df_train.shape[0])\n",
        "print('Records in Feb 2021 dataset ',df_val.shape[0])"
      ],
      "metadata": {
        "colab": {
          "base_uri": "https://localhost:8080/"
        },
        "id": "AqzIlS-Y2D5e",
        "outputId": "cdfbf6b3-4036-498d-f5fa-1f7c6bc58564"
      },
      "execution_count": 4,
      "outputs": [
        {
          "output_type": "stream",
          "name": "stdout",
          "text": [
            "Records in Jan 2021 dataset  1154112\n",
            "Records in Feb 2021 dataset  1037692\n"
          ]
        }
      ]
    },
    {
      "cell_type": "markdown",
      "source": [
        "### Question 1: Number of records in Jan 2021 FHV data\n",
        "\n",
        "---\n",
        "\n",
        "### Answer : 1154112"
      ],
      "metadata": {
        "id": "meEerx_6DwsE"
      }
    },
    {
      "cell_type": "markdown",
      "source": [
        "#### Function to calculate trip duration"
      ],
      "metadata": {
        "id": "7ljXzeO0EEl0"
      }
    },
    {
      "cell_type": "code",
      "source": [
        "def compute_duration(dataframe):\n",
        "  dataframe['duration'] = dataframe.dropOff_datetime - dataframe.pickup_datetime\n",
        "  dataframe.duration = dataframe.duration.apply(lambda td: td.total_seconds() / 60)\n",
        "  return dataframe"
      ],
      "metadata": {
        "id": "fGNbvyyU2YHC"
      },
      "execution_count": 5,
      "outputs": []
    },
    {
      "cell_type": "markdown",
      "source": [
        "#### Calculate duration in both datasets"
      ],
      "metadata": {
        "id": "C0ElGOarELE7"
      }
    },
    {
      "cell_type": "code",
      "source": [
        "df_train=compute_duration(df_train)\n",
        "df_val=compute_duration(df_val)"
      ],
      "metadata": {
        "id": "UL8xh67g2JPd"
      },
      "execution_count": 6,
      "outputs": []
    },
    {
      "cell_type": "markdown",
      "source": [
        "#### Calculate mean duration for the January dataset"
      ],
      "metadata": {
        "id": "0LPAaWmDERQs"
      }
    },
    {
      "cell_type": "code",
      "source": [
        "df_train['duration'].mean()"
      ],
      "metadata": {
        "colab": {
          "base_uri": "https://localhost:8080/"
        },
        "id": "73Jx3rgM26HJ",
        "outputId": "b52023c8-7947-4c29-ff59-106c6e4f8e13"
      },
      "execution_count": 7,
      "outputs": [
        {
          "output_type": "execute_result",
          "data": {
            "text/plain": [
              "19.1672240937939"
            ]
          },
          "metadata": {},
          "execution_count": 7
        }
      ]
    },
    {
      "cell_type": "markdown",
      "source": [
        "### Question 2: Average duration in Jan 2021 FHV\n",
        "\n",
        "\n",
        "---\n",
        "\n",
        "### Answer: 19.16\n"
      ],
      "metadata": {
        "id": "7lMDZdLdEbfz"
      }
    },
    {
      "cell_type": "markdown",
      "source": [
        "#### Identify how many outlier records exist"
      ],
      "metadata": {
        "id": "_HT7AV8lFOTC"
      }
    },
    {
      "cell_type": "code",
      "source": [
        "outliers = df_train[(df_train.duration < 1) | (df_train.duration > 60)]\n",
        "print(outliers.shape[0])"
      ],
      "metadata": {
        "colab": {
          "base_uri": "https://localhost:8080/"
        },
        "id": "aGEOcK-03P_J",
        "outputId": "ad4cbebd-fcbe-413c-9077-e423ed4e515b"
      },
      "execution_count": 8,
      "outputs": [
        {
          "output_type": "stream",
          "name": "stdout",
          "text": [
            "44286\n"
          ]
        }
      ]
    },
    {
      "cell_type": "markdown",
      "source": [
        "#### Function to filter rows where trip duration is greater than and equal to one minute and less than and equal to 60 minutes. Also fill rows with Nan value with -1 for PUlocationID and DOlocationID columns"
      ],
      "metadata": {
        "id": "ScQOsjDpFVeP"
      }
    },
    {
      "cell_type": "code",
      "source": [
        "def data_processing(dataframe):\n",
        "  dataframe=dataframe[(dataframe.duration >= 1) & (dataframe.duration <= 60)]\n",
        "  dataframe['PUlocationID'].fillna((-1), inplace=True)\n",
        "  dataframe['DOlocationID'].fillna((-1), inplace=True)\n",
        "  return dataframe"
      ],
      "metadata": {
        "id": "yQzOOkwH3eZk"
      },
      "execution_count": 9,
      "outputs": []
    },
    {
      "cell_type": "markdown",
      "source": [
        "### Perform data processing"
      ],
      "metadata": {
        "id": "k7t5Mq6QGCiS"
      }
    },
    {
      "cell_type": "code",
      "source": [
        "df_train=data_processing(df_train)\n",
        "df_val=data_processing(df_val)"
      ],
      "metadata": {
        "colab": {
          "base_uri": "https://localhost:8080/"
        },
        "id": "2V0rJ4Zf3xE0",
        "outputId": "713e65f0-f94c-4982-ea0a-257b9376ab8a"
      },
      "execution_count": 10,
      "outputs": [
        {
          "output_type": "stream",
          "name": "stderr",
          "text": [
            "/usr/local/lib/python3.7/dist-packages/pandas/core/generic.py:6392: SettingWithCopyWarning: \n",
            "A value is trying to be set on a copy of a slice from a DataFrame\n",
            "\n",
            "See the caveats in the documentation: https://pandas.pydata.org/pandas-docs/stable/user_guide/indexing.html#returning-a-view-versus-a-copy\n",
            "  return self._update_inplace(result)\n"
          ]
        }
      ]
    },
    {
      "cell_type": "code",
      "source": [
        "print('fractions of missing values for the pickup location ID',((df_train[df_train.PUlocationID == -1.0].shape[0])/(df_train.shape[0]))*100)"
      ],
      "metadata": {
        "colab": {
          "base_uri": "https://localhost:8080/"
        },
        "id": "NU_Meo0N4QUe",
        "outputId": "9473d05c-b939-4d53-f722-472cecf13add"
      },
      "execution_count": 11,
      "outputs": [
        {
          "output_type": "stream",
          "name": "stdout",
          "text": [
            "fractions of missing values for the pickup location ID 83.52732770722618\n"
          ]
        }
      ]
    },
    {
      "cell_type": "markdown",
      "source": [
        "### Question 3: Fraction of missing values\n",
        "---\n",
        "### Answer: 83% approx.\n",
        "\n",
        "\n"
      ],
      "metadata": {
        "id": "YTvQRH8YFyG9"
      }
    },
    {
      "cell_type": "markdown",
      "source": [
        "### Perform One Hot Encoding"
      ],
      "metadata": {
        "id": "9619DvLLGalQ"
      }
    },
    {
      "cell_type": "code",
      "source": [
        "categorical = ['PUlocationID', 'DOlocationID']\n",
        "numerical = ['duration']\n",
        "\n",
        "df_train[categorical] = df_train[categorical].astype(str)\n",
        "dicts = df_train[categorical].to_dict(orient='records')\n",
        "dv = DictVectorizer()\n",
        "\n",
        "X_train = dv.fit_transform(dicts)\n",
        "y_train = df_train['duration'].values"
      ],
      "metadata": {
        "id": "CfENkwR5GOZs"
      },
      "execution_count": 12,
      "outputs": []
    },
    {
      "cell_type": "code",
      "source": [
        "print(X_train.shape)"
      ],
      "metadata": {
        "colab": {
          "base_uri": "https://localhost:8080/"
        },
        "id": "ZhC13zXKGZd_",
        "outputId": "0a0a4033-3856-4353-dbfe-a48317e860fa"
      },
      "execution_count": 13,
      "outputs": [
        {
          "output_type": "stream",
          "name": "stdout",
          "text": [
            "(1109826, 525)\n"
          ]
        }
      ]
    },
    {
      "cell_type": "markdown",
      "source": [
        "### Question 4: Dimensionality after OHE\n",
        "\n",
        "\n",
        "---\n",
        "\n",
        "### Answer:525"
      ],
      "metadata": {
        "id": "HOVNQ9YmGjDC"
      }
    },
    {
      "cell_type": "markdown",
      "source": [
        "### Train a basic Linear Regression model and calculate its RMSE "
      ],
      "metadata": {
        "id": "LoHs8OTeGs3B"
      }
    },
    {
      "cell_type": "code",
      "source": [
        "lr = LinearRegression()\n",
        "lr.fit(X_train, y_train)\n",
        "y_pred = lr.predict(X_train)\n",
        "\n",
        "rmse=mean_squared_error(y_train, y_pred, squared=False)\n",
        "\n",
        "print(rmse)"
      ],
      "metadata": {
        "colab": {
          "base_uri": "https://localhost:8080/"
        },
        "id": "FjURB4-n4ZKI",
        "outputId": "ca1db7c9-62fd-4ff7-eb32-02d52cbea7a6"
      },
      "execution_count": 14,
      "outputs": [
        {
          "output_type": "stream",
          "name": "stdout",
          "text": [
            "10.528519107210744\n"
          ]
        }
      ]
    },
    {
      "cell_type": "markdown",
      "source": [
        "### Question 5: RMSE on train\n",
        "\n",
        "\n",
        "---\n",
        "\n",
        "### 10.52"
      ],
      "metadata": {
        "id": "07NkefHdG2LO"
      }
    },
    {
      "cell_type": "markdown",
      "source": [
        "### Compute the RMSE on the validation dataset"
      ],
      "metadata": {
        "id": "tNcqOiaYHLx_"
      }
    },
    {
      "cell_type": "code",
      "source": [
        "df_val[categorical] = df_val[categorical].astype(str)\n",
        "dicts_val = df_val[categorical].to_dict(orient='records')\n",
        "\n",
        "X_val = dv.transform(dicts_val)\n",
        "y_val = df_val['duration'].values\n",
        "\n",
        "y_val_pred = lr.predict(X_val)\n",
        "\n",
        "rmse=mean_squared_error(y_val, y_val_pred, squared=False)\n",
        "\n",
        "print(rmse)\n"
      ],
      "metadata": {
        "colab": {
          "base_uri": "https://localhost:8080/"
        },
        "id": "wHr0zRfeB6C2",
        "outputId": "4de86eab-db84-446a-8c4f-28f9279b03a6"
      },
      "execution_count": 15,
      "outputs": [
        {
          "output_type": "stream",
          "name": "stdout",
          "text": [
            "11.014283196111764\n"
          ]
        }
      ]
    },
    {
      "cell_type": "markdown",
      "source": [
        "### Question 6: RMSE on validation\n",
        "\n",
        "\n",
        "---\n",
        "\n",
        "### Answer: 11.01\n"
      ],
      "metadata": {
        "id": "7xQEPCYRHBlR"
      }
    }
  ]
}