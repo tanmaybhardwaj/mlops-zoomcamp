{
  "nbformat": 4,
  "nbformat_minor": 0,
  "metadata": {
    "colab": {
      "name": "01-homework.ipynb",
      "provenance": [],
      "collapsed_sections": []
    },
    "kernelspec": {
      "name": "python3",
      "display_name": "Python 3"
    },
    "language_info": {
      "name": "python"
    }
  },
  "cells": [
    {
      "cell_type": "markdown",
      "source": [
        "#### Retrieve Traffic Dataset"
      ],
      "metadata": {
        "id": "8cF68KldDWrH"
      }
    },
    {
      "cell_type": "code",
      "execution_count": 1,
      "metadata": {
        "colab": {
          "base_uri": "https://localhost:8080/"
        },
        "id": "WjMlbLD11d0Z",
        "outputId": "676b7b2f-ec63-46aa-eaef-ccc6076aeaf4"
      },
      "outputs": [
        {
          "output_type": "stream",
          "name": "stdout",
          "text": [
            "--2022-05-19 19:40:51--  https://nyc-tlc.s3.amazonaws.com/trip+data/fhv_tripdata_2021-01.parquet\n",
            "Resolving nyc-tlc.s3.amazonaws.com (nyc-tlc.s3.amazonaws.com)... 52.216.147.108\n",
            "Connecting to nyc-tlc.s3.amazonaws.com (nyc-tlc.s3.amazonaws.com)|52.216.147.108|:443... connected.\n",
            "HTTP request sent, awaiting response... 200 OK\n",
            "Length: 11886281 (11M) [binary/octet-stream]\n",
            "Saving to: ‘fhv_tripdata_2021-01.parquet’\n",
            "\n",
            "fhv_tripdata_2021-0 100%[===================>]  11.33M  --.-KB/s    in 0.1s    \n",
            "\n",
            "2022-05-19 19:40:51 (101 MB/s) - ‘fhv_tripdata_2021-01.parquet’ saved [11886281/11886281]\n",
            "\n",
            "--2022-05-19 19:40:51--  https://nyc-tlc.s3.amazonaws.com/trip+data/fhv_tripdata_2021-02.parquet\n",
            "Resolving nyc-tlc.s3.amazonaws.com (nyc-tlc.s3.amazonaws.com)... 52.216.147.108\n",
            "Connecting to nyc-tlc.s3.amazonaws.com (nyc-tlc.s3.amazonaws.com)|52.216.147.108|:443... connected.\n",
            "HTTP request sent, awaiting response... 200 OK\n",
            "Length: 10645466 (10M) [binary/octet-stream]\n",
            "Saving to: ‘fhv_tripdata_2021-02.parquet’\n",
            "\n",
            "fhv_tripdata_2021-0 100%[===================>]  10.15M  --.-KB/s    in 0.1s    \n",
            "\n",
            "2022-05-19 19:40:51 (69.5 MB/s) - ‘fhv_tripdata_2021-02.parquet’ saved [10645466/10645466]\n",
            "\n"
          ]
        }
      ],
      "source": [
        "!wget \"https://nyc-tlc.s3.amazonaws.com/trip+data/fhv_tripdata_2021-01.parquet\"\n",
        "!wget \"https://nyc-tlc.s3.amazonaws.com/trip+data/fhv_tripdata_2021-02.parquet\""
      ]
    },
    {
      "cell_type": "markdown",
      "source": [
        "#### Import Libraries/Packages"
      ],
      "metadata": {
        "id": "uhX7rPXKDbv9"
      }
    },
    {
      "cell_type": "code",
      "source": [
        "import pandas as pd\n",
        "from sklearn.metrics import mean_squared_error\n",
        "from sklearn.linear_model import LinearRegression\n",
        "from sklearn.feature_extraction import DictVectorizer"
      ],
      "metadata": {
        "id": "fC0Eq64H1jyY"
      },
      "execution_count": 21,
      "outputs": []
    },
    {
      "cell_type": "markdown",
      "source": [
        "#### Segregate train and test datasets"
      ],
      "metadata": {
        "id": "WJYCdXH6DjRQ"
      }
    },
    {
      "cell_type": "code",
      "source": [
        "df_train=pd.read_parquet('/content/fhv_tripdata_2021-01.parquet')\n",
        "df_val=pd.read_parquet('/content/fhv_tripdata_2021-02.parquet')"
      ],
      "metadata": {
        "id": "w9w-knh-1mq_"
      },
      "execution_count": 37,
      "outputs": []
    },
    {
      "cell_type": "markdown",
      "source": [
        "#### Check number of records in both datasets"
      ],
      "metadata": {
        "id": "Ao1EnzPfDnmw"
      }
    },
    {
      "cell_type": "code",
      "source": [
        "print('Records in Jan 2021 dataset ',df_train.shape[0])\n",
        "print('Records in Feb 2021 dataset ',df_val.shape[0])"
      ],
      "metadata": {
        "colab": {
          "base_uri": "https://localhost:8080/"
        },
        "id": "AqzIlS-Y2D5e",
        "outputId": "20ed2ef3-399e-46e7-b1b1-8695f5d317b2"
      },
      "execution_count": 38,
      "outputs": [
        {
          "output_type": "stream",
          "name": "stdout",
          "text": [
            "Records in Jan 2021 dataset  1154112\n",
            "Records in Feb 2021 dataset  1037692\n"
          ]
        }
      ]
    },
    {
      "cell_type": "markdown",
      "source": [
        "### Question 1: Number of records in Jan 2021 FHV data\n",
        "\n",
        "---\n",
        "\n",
        "### Answer : 1154112"
      ],
      "metadata": {
        "id": "meEerx_6DwsE"
      }
    },
    {
      "cell_type": "markdown",
      "source": [
        "#### Function to calculate trip duration"
      ],
      "metadata": {
        "id": "7ljXzeO0EEl0"
      }
    },
    {
      "cell_type": "code",
      "source": [
        "def compute_duration(dataframe):\n",
        "  dataframe['duration'] = dataframe.dropOff_datetime - dataframe.pickup_datetime\n",
        "  dataframe.duration = dataframe.duration.apply(lambda td: td.total_seconds() / 60)\n",
        "  return dataframe"
      ],
      "metadata": {
        "id": "fGNbvyyU2YHC"
      },
      "execution_count": 39,
      "outputs": []
    },
    {
      "cell_type": "markdown",
      "source": [
        "#### Calculate duration in both datasets"
      ],
      "metadata": {
        "id": "C0ElGOarELE7"
      }
    },
    {
      "cell_type": "code",
      "source": [
        "df_train=compute_duration(df_train)\n",
        "df_val=compute_duration(df_val)"
      ],
      "metadata": {
        "id": "UL8xh67g2JPd"
      },
      "execution_count": 40,
      "outputs": []
    },
    {
      "cell_type": "markdown",
      "source": [
        "#### Calculate mean duration for the January dataset"
      ],
      "metadata": {
        "id": "0LPAaWmDERQs"
      }
    },
    {
      "cell_type": "code",
      "source": [
        "df_train['duration'].mean()"
      ],
      "metadata": {
        "colab": {
          "base_uri": "https://localhost:8080/"
        },
        "id": "73Jx3rgM26HJ",
        "outputId": "44e9790d-c5f5-44f1-9b52-10738c1ece74"
      },
      "execution_count": 41,
      "outputs": [
        {
          "output_type": "execute_result",
          "data": {
            "text/plain": [
              "19.1672240937939"
            ]
          },
          "metadata": {},
          "execution_count": 41
        }
      ]
    },
    {
      "cell_type": "markdown",
      "source": [
        "### Question 2: Average duration in Jan 2021 FHV\n",
        "\n",
        "\n",
        "---\n",
        "\n",
        "### Answer: 19.16\n"
      ],
      "metadata": {
        "id": "7lMDZdLdEbfz"
      }
    },
    {
      "cell_type": "markdown",
      "source": [
        "#### Identify how many outlier records exist"
      ],
      "metadata": {
        "id": "_HT7AV8lFOTC"
      }
    },
    {
      "cell_type": "code",
      "source": [
        "outliers = df_train[(df_train.duration < 1) | (df_train.duration > 60)]\n",
        "print(outliers.shape[0])"
      ],
      "metadata": {
        "colab": {
          "base_uri": "https://localhost:8080/"
        },
        "id": "aGEOcK-03P_J",
        "outputId": "592856b4-c616-48ac-876e-53ce9681a1e9"
      },
      "execution_count": 42,
      "outputs": [
        {
          "output_type": "stream",
          "name": "stdout",
          "text": [
            "44286\n"
          ]
        }
      ]
    },
    {
      "cell_type": "markdown",
      "source": [
        "#### Function to filter rows where trip duration is greater than and equal to one minute and less than and equal to 60 minutes. Also fill rows with Nan value with -1 for PUlocationID and DOlocationID columns"
      ],
      "metadata": {
        "id": "ScQOsjDpFVeP"
      }
    },
    {
      "cell_type": "code",
      "source": [
        "def data_processing(dataframe):\n",
        "  dataframe=dataframe[(dataframe.duration >= 1) & (dataframe.duration <= 60)]\n",
        "  dataframe['PUlocationID'].fillna((-1), inplace=True)\n",
        "  dataframe['DOlocationID'].fillna((-1), inplace=True)\n",
        "  return dataframe"
      ],
      "metadata": {
        "id": "yQzOOkwH3eZk"
      },
      "execution_count": 43,
      "outputs": []
    },
    {
      "cell_type": "markdown",
      "source": [
        "### Perform data processing"
      ],
      "metadata": {
        "id": "k7t5Mq6QGCiS"
      }
    },
    {
      "cell_type": "code",
      "source": [
        "df_train=data_processing(df_train)\n",
        "df_val=data_processing(df_val)"
      ],
      "metadata": {
        "colab": {
          "base_uri": "https://localhost:8080/"
        },
        "id": "2V0rJ4Zf3xE0",
        "outputId": "1be8d433-5390-40c2-9b21-ed4e02e271eb"
      },
      "execution_count": 44,
      "outputs": [
        {
          "output_type": "stream",
          "name": "stderr",
          "text": [
            "/usr/local/lib/python3.7/dist-packages/pandas/core/generic.py:6392: SettingWithCopyWarning: \n",
            "A value is trying to be set on a copy of a slice from a DataFrame\n",
            "\n",
            "See the caveats in the documentation: https://pandas.pydata.org/pandas-docs/stable/user_guide/indexing.html#returning-a-view-versus-a-copy\n",
            "  return self._update_inplace(result)\n"
          ]
        }
      ]
    },
    {
      "cell_type": "code",
      "source": [
        "print('fractions of missing values for the pickup location ID',((df_train[df_train.PUlocationID == -1.0].shape[0])/(df_train.shape[0]))*100)"
      ],
      "metadata": {
        "colab": {
          "base_uri": "https://localhost:8080/"
        },
        "id": "NU_Meo0N4QUe",
        "outputId": "6998471a-efa6-4989-fc37-b9c39b169334"
      },
      "execution_count": 45,
      "outputs": [
        {
          "output_type": "stream",
          "name": "stdout",
          "text": [
            "fractions of missing values for the pickup location ID 83.52732770722618\n"
          ]
        }
      ]
    },
    {
      "cell_type": "markdown",
      "source": [
        "### Question 3: Fraction of missing values\n",
        "---\n",
        "### Answer: 83% approx.\n",
        "\n",
        "\n"
      ],
      "metadata": {
        "id": "YTvQRH8YFyG9"
      }
    },
    {
      "cell_type": "markdown",
      "source": [
        "### Perform One Hot Encoding"
      ],
      "metadata": {
        "id": "9619DvLLGalQ"
      }
    },
    {
      "cell_type": "code",
      "source": [
        "categorical = ['PUlocationID', 'DOlocationID']\n",
        "numerical = ['duration']\n",
        "\n",
        "df_train[categorical] = df_train[categorical].astype(str)\n",
        "dicts = df_train[categorical].to_dict(orient='records')\n",
        "dv = DictVectorizer()\n",
        "\n",
        "X_train = dv.fit_transform(dicts)\n",
        "y_train = df_train['duration'].values"
      ],
      "metadata": {
        "id": "CfENkwR5GOZs"
      },
      "execution_count": 53,
      "outputs": []
    },
    {
      "cell_type": "code",
      "source": [
        "print(X_train.shape)"
      ],
      "metadata": {
        "colab": {
          "base_uri": "https://localhost:8080/"
        },
        "id": "ZhC13zXKGZd_",
        "outputId": "a02cb7b4-58c0-4657-d606-abb4ea650bef"
      },
      "execution_count": 54,
      "outputs": [
        {
          "output_type": "stream",
          "name": "stdout",
          "text": [
            "(1109826, 525)\n"
          ]
        }
      ]
    },
    {
      "cell_type": "markdown",
      "source": [
        "### Question 4: Dimensionality after OHE\n",
        "\n",
        "\n",
        "---\n",
        "\n",
        "### Answer:525"
      ],
      "metadata": {
        "id": "HOVNQ9YmGjDC"
      }
    },
    {
      "cell_type": "markdown",
      "source": [
        "### Train a basic Linear Regression model and calculate its RMSE "
      ],
      "metadata": {
        "id": "LoHs8OTeGs3B"
      }
    },
    {
      "cell_type": "code",
      "source": [
        "lr = LinearRegression()\n",
        "lr.fit(X_train, y_train)\n",
        "y_pred = lr.predict(X_train)\n",
        "\n",
        "rmse=mean_squared_error(y_train, y_pred, squared=False)\n",
        "\n",
        "print(rmse)"
      ],
      "metadata": {
        "colab": {
          "base_uri": "https://localhost:8080/"
        },
        "id": "FjURB4-n4ZKI",
        "outputId": "d8034cbc-a113-4f9b-f3fd-1029de20c752"
      },
      "execution_count": 52,
      "outputs": [
        {
          "output_type": "stream",
          "name": "stdout",
          "text": [
            "10.528519107210744\n"
          ]
        }
      ]
    },
    {
      "cell_type": "markdown",
      "source": [
        "### Question 5: RMSE on train\n",
        "\n",
        "\n",
        "---\n",
        "\n",
        "### 10.52"
      ],
      "metadata": {
        "id": "07NkefHdG2LO"
      }
    },
    {
      "cell_type": "markdown",
      "source": [
        "### Compute the RMSE on the validation dataset"
      ],
      "metadata": {
        "id": "tNcqOiaYHLx_"
      }
    },
    {
      "cell_type": "code",
      "source": [
        "df_val[categorical] = df_val[categorical].astype(str)\n",
        "dicts_val = df_val[categorical].to_dict(orient='records')\n",
        "\n",
        "X_val = dv.transform(dicts_val)\n",
        "y_val = df_val['duration'].values\n",
        "\n",
        "y_val_pred = lr.predict(X_val)\n",
        "\n",
        "rmse=mean_squared_error(y_val, y_val_pred, squared=False)\n",
        "\n",
        "print(rmse)\n"
      ],
      "metadata": {
        "colab": {
          "base_uri": "https://localhost:8080/"
        },
        "id": "wHr0zRfeB6C2",
        "outputId": "b43f0455-75dd-462a-d079-965941150ce9"
      },
      "execution_count": 51,
      "outputs": [
        {
          "output_type": "stream",
          "name": "stdout",
          "text": [
            "11.014283196111764\n"
          ]
        }
      ]
    },
    {
      "cell_type": "markdown",
      "source": [
        "### Question 6: RMSE on validation\n",
        "\n",
        "\n",
        "---\n",
        "\n",
        "### Answer: 11.01\n"
      ],
      "metadata": {
        "id": "7xQEPCYRHBlR"
      }
    }
  ]
}